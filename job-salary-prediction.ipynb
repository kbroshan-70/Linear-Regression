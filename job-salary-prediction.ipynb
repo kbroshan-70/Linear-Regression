{
 "cells": [
  {
   "cell_type": "markdown",
   "metadata": {
    "papermill": {
     "duration": 0.028054,
     "end_time": "2020-12-16T14:04:27.870746",
     "exception": false,
     "start_time": "2020-12-16T14:04:27.842692",
     "status": "completed"
    },
    "tags": []
   },
   "source": [
    "# **Job Salary Prediction**\n",
    "This notebook looks into using various Python-based machine learning and data science libraries in an attempt to build a machine learning model capable of predicting Job Salary.\n",
    "\n",
    "We're going to take the following approach:\n",
    "1. Problem definition\n",
    "2. Data\n",
    "3. Evaluation\n",
    "4. Features\n",
    "5. Modelling\n",
    "6. Experimentation\n",
    "\n",
    "# 1. Problem Definition\n",
    "\n",
    "Successful models will incorporate some analysis of the impact of including different keywords or phrases, as well as making use of the structured data fields like location, hours or company.  Some of the structured data shown (such as category) is 'inferred' by Adzuna's own processes, based on where an ad came from or its contents, and may not be \"correct\" but is representative of the real data.\n",
    "\n",
    "You will be provided with a training data set on which to build your model, which will include all variables including salary.  A second data set will be used to provide feedback on the public leaderboard.  After approximately 6 weeks, Kaggle will release a final data set that does not include the salary field to participants, who will then be required to submit their salary predictions against each job for evaluation.\n",
    "# 2. Data\n",
    "\n",
    "The main dataset consists of a large number of rows representing individual job ads, and a series of fields about each job ad\n",
    "\n",
    "# 3.Evaluation\n",
    "\n",
    "Our evaluation data set is simply a random subset of ads for which we know the salary, that were not included in the training and public testing datasets.\n",
    "\n",
    "The evaluation metric for this competition is Mean Absolute Error\n",
    "\n",
    "Sample submission files can be downloaded from the data page. Submission files should be formatted as follows:\n",
    "\n",
    "Have a header: \"Id,SalaryNormalized\"\n",
    "Contain two columns\n",
    "Id: Id for the ads in the validation set in sorted order\n",
    "SalaryNormalized: Your predicted salary for the job ad\n",
    "# 4. Features\n",
    "\n",
    "These fields are as follows:\n",
    "\n",
    "Id - A unique identifier for each job ad\n",
    "\n",
    "Title - A freetext field supplied to us by the job advertiser as the Title of the job ad.  Normally this is a summary of the job title or role.\n",
    "\n",
    "FullDescription - The full text of the job ad as provided by the job advertiser.  Where you see ***s, we have stripped values from the description in order to ensure that no salary information appears within the descriptions.  There may be some collateral damage here where we have also removed other numerics.\n",
    "\n",
    "LocationRaw - The freetext location as provided by the job advertiser.\n",
    "\n",
    "LocationNormalized - Adzuna's normalised location from within our own location tree, interpreted by us based on the raw location.  Our normaliser is not perfect!\n",
    "\n",
    "ContractType - full_time or part_time, interpreted by Adzuna from description or a specific additional field we received from the advertiser.\n",
    "\n",
    "ContractTime - permanent or contract, interpreted by Adzuna from description or a specific additional field we received from the advertiser.\n",
    "\n",
    "Company - the name of the employer as supplied to us by the job advertiser.\n",
    "\n",
    "Category - which of 30 standard job categories this ad fits into, inferred in a very messy way based on the source the ad came from.  We know there is a lot of noise and error in this field.\n",
    "\n",
    "SalaryRaw - the freetext salary field we received in the job advert from the advertiser.\n",
    "\n",
    "SalaryNormalised - the annualised salary interpreted by Adzuna from the raw salary.  Note that this is always a single value based on the midpoint of any range found in the raw salary.  This is the value we are trying to predict.\n",
    "\n",
    "SourceName - the name of the website or advertiser from whom we received the job advert. \n",
    "\n",
    "All of the data is real, live data used in job ads so is clearly subject to lots of real world noise, including but not limited to: ads that are not UK based, salaries that are incorrectly stated, fields that are incorrectly normalised and duplicate adverts.\n",
    "Location Tree\n",
    "This is a supplemental data set that describes the hierarchical relationship between the different Normalised Locations shown in the job data.  It it is likely that there are meaningful relationships between the salaries of jobs in a similar geographical area, for example average salaries in London and the South East are higher than in the rest of the UK."
   ]
  },
  {
   "cell_type": "code",
   "execution_count": 1,
   "metadata": {
    "execution": {
     "iopub.execute_input": "2020-12-16T14:04:27.929002Z",
     "iopub.status.busy": "2020-12-16T14:04:27.928214Z",
     "iopub.status.idle": "2020-12-16T14:04:29.191015Z",
     "shell.execute_reply": "2020-12-16T14:04:29.190302Z"
    },
    "papermill": {
     "duration": 1.293532,
     "end_time": "2020-12-16T14:04:29.191168",
     "exception": false,
     "start_time": "2020-12-16T14:04:27.897636",
     "status": "completed"
    },
    "tags": []
   },
   "outputs": [],
   "source": [
    "# Importing some tools\n",
    "import pandas as pd\n",
    "import numpy as np\n",
    "import matplotlib.pyplot as plt\n",
    "import seaborn as sns"
   ]
  },
  {
   "cell_type": "markdown",
   "metadata": {
    "papermill": {
     "duration": 0.027108,
     "end_time": "2020-12-16T14:04:29.245952",
     "exception": false,
     "start_time": "2020-12-16T14:04:29.218844",
     "status": "completed"
    },
    "tags": []
   },
   "source": [
    "# Load data"
   ]
  },
  {
   "cell_type": "code",
   "execution_count": 2,
   "metadata": {
    "execution": {
     "iopub.execute_input": "2020-12-16T14:04:29.307431Z",
     "iopub.status.busy": "2020-12-16T14:04:29.306589Z",
     "iopub.status.idle": "2020-12-16T14:04:39.629394Z",
     "shell.execute_reply": "2020-12-16T14:04:39.628664Z"
    },
    "papermill": {
     "duration": 10.356336,
     "end_time": "2020-12-16T14:04:39.629525",
     "exception": false,
     "start_time": "2020-12-16T14:04:29.273189",
     "status": "completed"
    },
    "tags": []
   },
   "outputs": [
    {
     "data": {
      "text/html": [
       "<div>\n",
       "<style scoped>\n",
       "    .dataframe tbody tr th:only-of-type {\n",
       "        vertical-align: middle;\n",
       "    }\n",
       "\n",
       "    .dataframe tbody tr th {\n",
       "        vertical-align: top;\n",
       "    }\n",
       "\n",
       "    .dataframe thead th {\n",
       "        text-align: right;\n",
       "    }\n",
       "</style>\n",
       "<table border=\"1\" class=\"dataframe\">\n",
       "  <thead>\n",
       "    <tr style=\"text-align: right;\">\n",
       "      <th></th>\n",
       "      <th>Id</th>\n",
       "      <th>Title</th>\n",
       "      <th>FullDescription</th>\n",
       "      <th>LocationRaw</th>\n",
       "      <th>LocationNormalized</th>\n",
       "      <th>ContractType</th>\n",
       "      <th>ContractTime</th>\n",
       "      <th>Company</th>\n",
       "      <th>Category</th>\n",
       "      <th>SalaryRaw</th>\n",
       "      <th>SalaryNormalized</th>\n",
       "      <th>SourceName</th>\n",
       "    </tr>\n",
       "  </thead>\n",
       "  <tbody>\n",
       "    <tr>\n",
       "      <th>0</th>\n",
       "      <td>12612628</td>\n",
       "      <td>Engineering Systems Analyst</td>\n",
       "      <td>Engineering Systems Analyst Dorking Surrey Sal...</td>\n",
       "      <td>Dorking, Surrey, Surrey</td>\n",
       "      <td>Dorking</td>\n",
       "      <td>NaN</td>\n",
       "      <td>permanent</td>\n",
       "      <td>Gregory Martin International</td>\n",
       "      <td>Engineering Jobs</td>\n",
       "      <td>20000 - 30000/annum 20-30K</td>\n",
       "      <td>25000</td>\n",
       "      <td>cv-library.co.uk</td>\n",
       "    </tr>\n",
       "    <tr>\n",
       "      <th>1</th>\n",
       "      <td>12612830</td>\n",
       "      <td>Stress Engineer Glasgow</td>\n",
       "      <td>Stress Engineer Glasgow Salary **** to **** We...</td>\n",
       "      <td>Glasgow, Scotland, Scotland</td>\n",
       "      <td>Glasgow</td>\n",
       "      <td>NaN</td>\n",
       "      <td>permanent</td>\n",
       "      <td>Gregory Martin International</td>\n",
       "      <td>Engineering Jobs</td>\n",
       "      <td>25000 - 35000/annum 25-35K</td>\n",
       "      <td>30000</td>\n",
       "      <td>cv-library.co.uk</td>\n",
       "    </tr>\n",
       "    <tr>\n",
       "      <th>2</th>\n",
       "      <td>12612844</td>\n",
       "      <td>Modelling and simulation analyst</td>\n",
       "      <td>Mathematical Modeller / Simulation Analyst / O...</td>\n",
       "      <td>Hampshire, South East, South East</td>\n",
       "      <td>Hampshire</td>\n",
       "      <td>NaN</td>\n",
       "      <td>permanent</td>\n",
       "      <td>Gregory Martin International</td>\n",
       "      <td>Engineering Jobs</td>\n",
       "      <td>20000 - 40000/annum 20-40K</td>\n",
       "      <td>30000</td>\n",
       "      <td>cv-library.co.uk</td>\n",
       "    </tr>\n",
       "    <tr>\n",
       "      <th>3</th>\n",
       "      <td>12613049</td>\n",
       "      <td>Engineering Systems Analyst / Mathematical Mod...</td>\n",
       "      <td>Engineering Systems Analyst / Mathematical Mod...</td>\n",
       "      <td>Surrey, South East, South East</td>\n",
       "      <td>Surrey</td>\n",
       "      <td>NaN</td>\n",
       "      <td>permanent</td>\n",
       "      <td>Gregory Martin International</td>\n",
       "      <td>Engineering Jobs</td>\n",
       "      <td>25000 - 30000/annum 25K-30K negotiable</td>\n",
       "      <td>27500</td>\n",
       "      <td>cv-library.co.uk</td>\n",
       "    </tr>\n",
       "    <tr>\n",
       "      <th>4</th>\n",
       "      <td>12613647</td>\n",
       "      <td>Pioneer, Miser Engineering Systems Analyst</td>\n",
       "      <td>Pioneer, Miser  Engineering Systems Analyst Do...</td>\n",
       "      <td>Surrey, South East, South East</td>\n",
       "      <td>Surrey</td>\n",
       "      <td>NaN</td>\n",
       "      <td>permanent</td>\n",
       "      <td>Gregory Martin International</td>\n",
       "      <td>Engineering Jobs</td>\n",
       "      <td>20000 - 30000/annum 20-30K</td>\n",
       "      <td>25000</td>\n",
       "      <td>cv-library.co.uk</td>\n",
       "    </tr>\n",
       "  </tbody>\n",
       "</table>\n",
       "</div>"
      ],
      "text/plain": [
       "         Id                                              Title  \\\n",
       "0  12612628                        Engineering Systems Analyst   \n",
       "1  12612830                            Stress Engineer Glasgow   \n",
       "2  12612844                   Modelling and simulation analyst   \n",
       "3  12613049  Engineering Systems Analyst / Mathematical Mod...   \n",
       "4  12613647         Pioneer, Miser Engineering Systems Analyst   \n",
       "\n",
       "                                     FullDescription  \\\n",
       "0  Engineering Systems Analyst Dorking Surrey Sal...   \n",
       "1  Stress Engineer Glasgow Salary **** to **** We...   \n",
       "2  Mathematical Modeller / Simulation Analyst / O...   \n",
       "3  Engineering Systems Analyst / Mathematical Mod...   \n",
       "4  Pioneer, Miser  Engineering Systems Analyst Do...   \n",
       "\n",
       "                         LocationRaw LocationNormalized ContractType  \\\n",
       "0            Dorking, Surrey, Surrey            Dorking          NaN   \n",
       "1        Glasgow, Scotland, Scotland            Glasgow          NaN   \n",
       "2  Hampshire, South East, South East          Hampshire          NaN   \n",
       "3     Surrey, South East, South East             Surrey          NaN   \n",
       "4     Surrey, South East, South East             Surrey          NaN   \n",
       "\n",
       "  ContractTime                       Company          Category  \\\n",
       "0    permanent  Gregory Martin International  Engineering Jobs   \n",
       "1    permanent  Gregory Martin International  Engineering Jobs   \n",
       "2    permanent  Gregory Martin International  Engineering Jobs   \n",
       "3    permanent  Gregory Martin International  Engineering Jobs   \n",
       "4    permanent  Gregory Martin International  Engineering Jobs   \n",
       "\n",
       "                                SalaryRaw  SalaryNormalized        SourceName  \n",
       "0              20000 - 30000/annum 20-30K             25000  cv-library.co.uk  \n",
       "1              25000 - 35000/annum 25-35K             30000  cv-library.co.uk  \n",
       "2              20000 - 40000/annum 20-40K             30000  cv-library.co.uk  \n",
       "3  25000 - 30000/annum 25K-30K negotiable             27500  cv-library.co.uk  \n",
       "4              20000 - 30000/annum 20-30K             25000  cv-library.co.uk  "
      ]
     },
     "execution_count": 2,
     "metadata": {},
     "output_type": "execute_result"
    }
   ],
   "source": [
    "df_train = pd.read_csv('../input/job-salary-prediction/Train_rev1.zip', compression='zip', header=0, sep=',', quotechar='\"')\n",
    "df_train.head()"
   ]
  },
  {
   "cell_type": "markdown",
   "metadata": {
    "papermill": {
     "duration": 0.027574,
     "end_time": "2020-12-16T14:04:39.685471",
     "exception": false,
     "start_time": "2020-12-16T14:04:39.657897",
     "status": "completed"
    },
    "tags": []
   },
   "source": [
    "# Data Exploration"
   ]
  },
  {
   "cell_type": "code",
   "execution_count": 3,
   "metadata": {
    "execution": {
     "iopub.execute_input": "2020-12-16T14:04:39.752819Z",
     "iopub.status.busy": "2020-12-16T14:04:39.751663Z",
     "iopub.status.idle": "2020-12-16T14:04:39.780727Z",
     "shell.execute_reply": "2020-12-16T14:04:39.780139Z"
    },
    "papermill": {
     "duration": 0.067716,
     "end_time": "2020-12-16T14:04:39.780846",
     "exception": false,
     "start_time": "2020-12-16T14:04:39.713130",
     "status": "completed"
    },
    "tags": []
   },
   "outputs": [
    {
     "data": {
      "text/html": [
       "<div>\n",
       "<style scoped>\n",
       "    .dataframe tbody tr th:only-of-type {\n",
       "        vertical-align: middle;\n",
       "    }\n",
       "\n",
       "    .dataframe tbody tr th {\n",
       "        vertical-align: top;\n",
       "    }\n",
       "\n",
       "    .dataframe thead th {\n",
       "        text-align: right;\n",
       "    }\n",
       "</style>\n",
       "<table border=\"1\" class=\"dataframe\">\n",
       "  <thead>\n",
       "    <tr style=\"text-align: right;\">\n",
       "      <th></th>\n",
       "      <th>Id</th>\n",
       "      <th>SalaryNormalized</th>\n",
       "    </tr>\n",
       "  </thead>\n",
       "  <tbody>\n",
       "    <tr>\n",
       "      <th>count</th>\n",
       "      <td>2.447680e+05</td>\n",
       "      <td>244768.000000</td>\n",
       "    </tr>\n",
       "    <tr>\n",
       "      <th>mean</th>\n",
       "      <td>6.970142e+07</td>\n",
       "      <td>34122.577576</td>\n",
       "    </tr>\n",
       "    <tr>\n",
       "      <th>std</th>\n",
       "      <td>3.129813e+06</td>\n",
       "      <td>17640.543124</td>\n",
       "    </tr>\n",
       "    <tr>\n",
       "      <th>min</th>\n",
       "      <td>1.261263e+07</td>\n",
       "      <td>5000.000000</td>\n",
       "    </tr>\n",
       "    <tr>\n",
       "      <th>25%</th>\n",
       "      <td>6.869550e+07</td>\n",
       "      <td>21500.000000</td>\n",
       "    </tr>\n",
       "    <tr>\n",
       "      <th>50%</th>\n",
       "      <td>6.993700e+07</td>\n",
       "      <td>30000.000000</td>\n",
       "    </tr>\n",
       "    <tr>\n",
       "      <th>75%</th>\n",
       "      <td>7.162606e+07</td>\n",
       "      <td>42500.000000</td>\n",
       "    </tr>\n",
       "    <tr>\n",
       "      <th>max</th>\n",
       "      <td>7.270524e+07</td>\n",
       "      <td>200000.000000</td>\n",
       "    </tr>\n",
       "  </tbody>\n",
       "</table>\n",
       "</div>"
      ],
      "text/plain": [
       "                 Id  SalaryNormalized\n",
       "count  2.447680e+05     244768.000000\n",
       "mean   6.970142e+07      34122.577576\n",
       "std    3.129813e+06      17640.543124\n",
       "min    1.261263e+07       5000.000000\n",
       "25%    6.869550e+07      21500.000000\n",
       "50%    6.993700e+07      30000.000000\n",
       "75%    7.162606e+07      42500.000000\n",
       "max    7.270524e+07     200000.000000"
      ]
     },
     "execution_count": 3,
     "metadata": {},
     "output_type": "execute_result"
    }
   ],
   "source": [
    "df_train.describe()"
   ]
  },
  {
   "cell_type": "code",
   "execution_count": 4,
   "metadata": {
    "execution": {
     "iopub.execute_input": "2020-12-16T14:04:40.106590Z",
     "iopub.status.busy": "2020-12-16T14:04:39.843814Z",
     "iopub.status.idle": "2020-12-16T14:04:40.127233Z",
     "shell.execute_reply": "2020-12-16T14:04:40.127724Z"
    },
    "papermill": {
     "duration": 0.319129,
     "end_time": "2020-12-16T14:04:40.127879",
     "exception": false,
     "start_time": "2020-12-16T14:04:39.808750",
     "status": "completed"
    },
    "tags": []
   },
   "outputs": [
    {
     "name": "stdout",
     "output_type": "stream",
     "text": [
      "<class 'pandas.core.frame.DataFrame'>\n",
      "RangeIndex: 244768 entries, 0 to 244767\n",
      "Data columns (total 12 columns):\n",
      " #   Column              Non-Null Count   Dtype \n",
      "---  ------              --------------   ----- \n",
      " 0   Id                  244768 non-null  int64 \n",
      " 1   Title               244767 non-null  object\n",
      " 2   FullDescription     244768 non-null  object\n",
      " 3   LocationRaw         244768 non-null  object\n",
      " 4   LocationNormalized  244768 non-null  object\n",
      " 5   ContractType        65442 non-null   object\n",
      " 6   ContractTime        180863 non-null  object\n",
      " 7   Company             212338 non-null  object\n",
      " 8   Category            244768 non-null  object\n",
      " 9   SalaryRaw           244768 non-null  object\n",
      " 10  SalaryNormalized    244768 non-null  int64 \n",
      " 11  SourceName          244767 non-null  object\n",
      "dtypes: int64(2), object(10)\n",
      "memory usage: 22.4+ MB\n"
     ]
    }
   ],
   "source": [
    "df_train.info()"
   ]
  },
  {
   "cell_type": "code",
   "execution_count": 5,
   "metadata": {
    "execution": {
     "iopub.execute_input": "2020-12-16T14:04:40.452813Z",
     "iopub.status.busy": "2020-12-16T14:04:40.452128Z",
     "iopub.status.idle": "2020-12-16T14:04:40.465102Z",
     "shell.execute_reply": "2020-12-16T14:04:40.464364Z"
    },
    "papermill": {
     "duration": 0.307732,
     "end_time": "2020-12-16T14:04:40.465236",
     "exception": false,
     "start_time": "2020-12-16T14:04:40.157504",
     "status": "completed"
    },
    "tags": []
   },
   "outputs": [
    {
     "data": {
      "text/plain": [
       "Id                         0\n",
       "Title                      1\n",
       "FullDescription            0\n",
       "LocationRaw                0\n",
       "LocationNormalized         0\n",
       "ContractType          179326\n",
       "ContractTime           63905\n",
       "Company                32430\n",
       "Category                   0\n",
       "SalaryRaw                  0\n",
       "SalaryNormalized           0\n",
       "SourceName                 1\n",
       "dtype: int64"
      ]
     },
     "execution_count": 5,
     "metadata": {},
     "output_type": "execute_result"
    }
   ],
   "source": [
    "# Check missing values\n",
    "df_train.isna().sum()"
   ]
  },
  {
   "cell_type": "code",
   "execution_count": 6,
   "metadata": {
    "execution": {
     "iopub.execute_input": "2020-12-16T14:04:40.533758Z",
     "iopub.status.busy": "2020-12-16T14:04:40.532619Z",
     "iopub.status.idle": "2020-12-16T14:04:40.538157Z",
     "shell.execute_reply": "2020-12-16T14:04:40.537262Z"
    },
    "papermill": {
     "duration": 0.042506,
     "end_time": "2020-12-16T14:04:40.538340",
     "exception": false,
     "start_time": "2020-12-16T14:04:40.495834",
     "status": "completed"
    },
    "tags": []
   },
   "outputs": [
    {
     "name": "stdout",
     "output_type": "stream",
     "text": [
      "Title\n",
      "FullDescription\n",
      "LocationRaw\n",
      "LocationNormalized\n",
      "ContractType\n",
      "ContractTime\n",
      "Company\n",
      "Category\n",
      "SalaryRaw\n",
      "SourceName\n"
     ]
    }
   ],
   "source": [
    "# Check for string label \n",
    "for label,content in df_train.items():\n",
    "    if pd.api.types.is_string_dtype(content):\n",
    "        print(label)"
   ]
  },
  {
   "cell_type": "code",
   "execution_count": 7,
   "metadata": {
    "execution": {
     "iopub.execute_input": "2020-12-16T14:04:40.605759Z",
     "iopub.status.busy": "2020-12-16T14:04:40.604726Z",
     "iopub.status.idle": "2020-12-16T14:04:40.609206Z",
     "shell.execute_reply": "2020-12-16T14:04:40.608496Z"
    },
    "papermill": {
     "duration": 0.040801,
     "end_time": "2020-12-16T14:04:40.609329",
     "exception": false,
     "start_time": "2020-12-16T14:04:40.568528",
     "status": "completed"
    },
    "tags": []
   },
   "outputs": [
    {
     "name": "stdout",
     "output_type": "stream",
     "text": [
      "Id\n",
      "SalaryNormalized\n"
     ]
    }
   ],
   "source": [
    "# Check for numerical label\n",
    "for label,content in df_train.items():\n",
    "    if pd.api.types.is_numeric_dtype(content):\n",
    "        print(label)"
   ]
  },
  {
   "cell_type": "code",
   "execution_count": 8,
   "metadata": {
    "execution": {
     "iopub.execute_input": "2020-12-16T14:04:41.157447Z",
     "iopub.status.busy": "2020-12-16T14:04:41.136702Z",
     "iopub.status.idle": "2020-12-16T14:04:45.427242Z",
     "shell.execute_reply": "2020-12-16T14:04:45.426682Z"
    },
    "papermill": {
     "duration": 4.787581,
     "end_time": "2020-12-16T14:04:45.427363",
     "exception": false,
     "start_time": "2020-12-16T14:04:40.639782",
     "status": "completed"
    },
    "tags": []
   },
   "outputs": [],
   "source": [
    "# This will turn all of the string value into category values\n",
    "for label, content in df_train.items():\n",
    "    if pd.api.types.is_string_dtype(content):\n",
    "        df_train[label] = content.astype(\"category\").cat.as_ordered()\n"
   ]
  },
  {
   "cell_type": "code",
   "execution_count": 9,
   "metadata": {
    "execution": {
     "iopub.execute_input": "2020-12-16T14:04:45.499383Z",
     "iopub.status.busy": "2020-12-16T14:04:45.498681Z",
     "iopub.status.idle": "2020-12-16T14:04:45.531600Z",
     "shell.execute_reply": "2020-12-16T14:04:45.531007Z"
    },
    "papermill": {
     "duration": 0.074113,
     "end_time": "2020-12-16T14:04:45.531723",
     "exception": false,
     "start_time": "2020-12-16T14:04:45.457610",
     "status": "completed"
    },
    "tags": []
   },
   "outputs": [],
   "source": [
    "# Filling missing values\n",
    "for label,content in df_train.items():\n",
    "    if not pd.api.types.is_numeric_dtype(content):\n",
    "        # Add binary column to indicate whether sample had missing value\n",
    "        df_train[label+\"is_missing\"]=pd.isnull(content)\n",
    "        # Turn categories into numbers and add+1\n",
    "        df_train[label] = pd.Categorical(content).codes+1"
   ]
  },
  {
   "cell_type": "code",
   "execution_count": 10,
   "metadata": {
    "execution": {
     "iopub.execute_input": "2020-12-16T14:04:45.597490Z",
     "iopub.status.busy": "2020-12-16T14:04:45.596834Z",
     "iopub.status.idle": "2020-12-16T14:04:45.615263Z",
     "shell.execute_reply": "2020-12-16T14:04:45.614537Z"
    },
    "papermill": {
     "duration": 0.053543,
     "end_time": "2020-12-16T14:04:45.615402",
     "exception": false,
     "start_time": "2020-12-16T14:04:45.561859",
     "status": "completed"
    },
    "tags": []
   },
   "outputs": [
    {
     "data": {
      "text/plain": [
       "Id                              0\n",
       "Title                           0\n",
       "FullDescription                 0\n",
       "LocationRaw                     0\n",
       "LocationNormalized              0\n",
       "ContractType                    0\n",
       "ContractTime                    0\n",
       "Company                         0\n",
       "Category                        0\n",
       "SalaryRaw                       0\n",
       "SalaryNormalized                0\n",
       "SourceName                      0\n",
       "Titleis_missing                 0\n",
       "FullDescriptionis_missing       0\n",
       "LocationRawis_missing           0\n",
       "LocationNormalizedis_missing    0\n",
       "ContractTypeis_missing          0\n",
       "ContractTimeis_missing          0\n",
       "Companyis_missing               0\n",
       "Categoryis_missing              0\n",
       "SalaryRawis_missing             0\n",
       "SourceNameis_missing            0\n",
       "dtype: int64"
      ]
     },
     "execution_count": 10,
     "metadata": {},
     "output_type": "execute_result"
    }
   ],
   "source": [
    "df_train.isna().sum()"
   ]
  },
  {
   "cell_type": "markdown",
   "metadata": {
    "papermill": {
     "duration": 0.037614,
     "end_time": "2020-12-16T14:04:45.684152",
     "exception": false,
     "start_time": "2020-12-16T14:04:45.646538",
     "status": "completed"
    },
    "tags": []
   },
   "source": [
    "# Data Visualization"
   ]
  },
  {
   "cell_type": "code",
   "execution_count": 11,
   "metadata": {
    "execution": {
     "iopub.execute_input": "2020-12-16T14:04:45.758428Z",
     "iopub.status.busy": "2020-12-16T14:04:45.757673Z",
     "iopub.status.idle": "2020-12-16T14:04:46.028840Z",
     "shell.execute_reply": "2020-12-16T14:04:46.028207Z"
    },
    "papermill": {
     "duration": 0.308438,
     "end_time": "2020-12-16T14:04:46.028964",
     "exception": false,
     "start_time": "2020-12-16T14:04:45.720526",
     "status": "completed"
    },
    "tags": []
   },
   "outputs": [
    {
     "data": {
      "image/png": "[encoded data removed]",
      "text/plain": [
       "<Figure size 1080x720 with 1 Axes>"
      ]
     },
     "metadata": {
      "needs_background": "light"
     },
     "output_type": "display_data"
    }
   ],
   "source": [
    "ms = df_train[\"SalaryNormalized\"][:10].plot.barh(figsize=(15,10))"
   ]
  },
  {
   "cell_type": "code",
   "execution_count": 12,
   "metadata": {
    "execution": {
     "iopub.execute_input": "2020-12-16T14:04:46.108658Z",
     "iopub.status.busy": "2020-12-16T14:04:46.106072Z",
     "iopub.status.idle": "2020-12-16T14:04:46.300446Z",
     "shell.execute_reply": "2020-12-16T14:04:46.301001Z"
    },
    "papermill": {
     "duration": 0.239738,
     "end_time": "2020-12-16T14:04:46.301205",
     "exception": false,
     "start_time": "2020-12-16T14:04:46.061467",
     "status": "completed"
    },
    "tags": []
   },
   "outputs": [
    {
     "data": {
      "text/plain": [
       "<matplotlib.axes._subplots.AxesSubplot at 0x7f042e55ed90>"
      ]
     },
     "execution_count": 12,
     "metadata": {},
     "output_type": "execute_result"
    },
    {
     "data": {
      "image/png": "[encoded data removed]",
      "text/plain": [
       "<Figure size 432x288 with 1 Axes>"
      ]
     },
     "metadata": {
      "needs_background": "light"
     },
     "output_type": "display_data"
    }
   ],
   "source": [
    "df_train[\"SalaryNormalized\"].hist()"
   ]
  },
  {
   "cell_type": "code",
   "execution_count": 13,
   "metadata": {
    "execution": {
     "iopub.execute_input": "2020-12-16T14:04:46.373415Z",
     "iopub.status.busy": "2020-12-16T14:04:46.372443Z",
     "iopub.status.idle": "2020-12-16T14:04:46.382027Z",
     "shell.execute_reply": "2020-12-16T14:04:46.382671Z"
    },
    "papermill": {
     "duration": 0.048112,
     "end_time": "2020-12-16T14:04:46.382864",
     "exception": false,
     "start_time": "2020-12-16T14:04:46.334752",
     "status": "completed"
    },
    "tags": []
   },
   "outputs": [],
   "source": [
    "# For more security,copy the train set\n",
    "df_tmp = df_train.copy()"
   ]
  },
  {
   "cell_type": "code",
   "execution_count": 14,
   "metadata": {
    "execution": {
     "iopub.execute_input": "2020-12-16T14:04:46.458155Z",
     "iopub.status.busy": "2020-12-16T14:04:46.457275Z",
     "iopub.status.idle": "2020-12-16T14:04:46.497420Z",
     "shell.execute_reply": "2020-12-16T14:04:46.496462Z"
    },
    "papermill": {
     "duration": 0.079854,
     "end_time": "2020-12-16T14:04:46.497698",
     "exception": false,
     "start_time": "2020-12-16T14:04:46.417844",
     "status": "completed"
    },
    "tags": []
   },
   "outputs": [
    {
     "data": {
      "text/html": [
       "<div>\n",
       "<style scoped>\n",
       "    .dataframe tbody tr th:only-of-type {\n",
       "        vertical-align: middle;\n",
       "    }\n",
       "\n",
       "    .dataframe tbody tr th {\n",
       "        vertical-align: top;\n",
       "    }\n",
       "\n",
       "    .dataframe thead th {\n",
       "        text-align: right;\n",
       "    }\n",
       "</style>\n",
       "<table border=\"1\" class=\"dataframe\">\n",
       "  <thead>\n",
       "    <tr style=\"text-align: right;\">\n",
       "      <th></th>\n",
       "      <th>Id</th>\n",
       "      <th>Title</th>\n",
       "      <th>FullDescription</th>\n",
       "      <th>LocationRaw</th>\n",
       "      <th>LocationNormalized</th>\n",
       "      <th>ContractType</th>\n",
       "      <th>ContractTime</th>\n",
       "      <th>Company</th>\n",
       "      <th>Category</th>\n",
       "      <th>SalaryRaw</th>\n",
       "      <th>...</th>\n",
       "      <th>Titleis_missing</th>\n",
       "      <th>FullDescriptionis_missing</th>\n",
       "      <th>LocationRawis_missing</th>\n",
       "      <th>LocationNormalizedis_missing</th>\n",
       "      <th>ContractTypeis_missing</th>\n",
       "      <th>ContractTimeis_missing</th>\n",
       "      <th>Companyis_missing</th>\n",
       "      <th>Categoryis_missing</th>\n",
       "      <th>SalaryRawis_missing</th>\n",
       "      <th>SourceNameis_missing</th>\n",
       "    </tr>\n",
       "  </thead>\n",
       "  <tbody>\n",
       "    <tr>\n",
       "      <th>0</th>\n",
       "      <td>12612628</td>\n",
       "      <td>39227</td>\n",
       "      <td>68301</td>\n",
       "      <td>5178</td>\n",
       "      <td>751</td>\n",
       "      <td>0</td>\n",
       "      <td>2</td>\n",
       "      <td>7758</td>\n",
       "      <td>9</td>\n",
       "      <td>21344</td>\n",
       "      <td>...</td>\n",
       "      <td>False</td>\n",
       "      <td>False</td>\n",
       "      <td>False</td>\n",
       "      <td>False</td>\n",
       "      <td>True</td>\n",
       "      <td>False</td>\n",
       "      <td>False</td>\n",
       "      <td>False</td>\n",
       "      <td>False</td>\n",
       "      <td>False</td>\n",
       "    </tr>\n",
       "    <tr>\n",
       "      <th>1</th>\n",
       "      <td>12612830</td>\n",
       "      <td>121388</td>\n",
       "      <td>196351</td>\n",
       "      <td>6881</td>\n",
       "      <td>987</td>\n",
       "      <td>0</td>\n",
       "      <td>2</td>\n",
       "      <td>7758</td>\n",
       "      <td>9</td>\n",
       "      <td>32427</td>\n",
       "      <td>...</td>\n",
       "      <td>False</td>\n",
       "      <td>False</td>\n",
       "      <td>False</td>\n",
       "      <td>False</td>\n",
       "      <td>True</td>\n",
       "      <td>False</td>\n",
       "      <td>False</td>\n",
       "      <td>False</td>\n",
       "      <td>False</td>\n",
       "      <td>False</td>\n",
       "    </tr>\n",
       "    <tr>\n",
       "      <th>2</th>\n",
       "      <td>12612844</td>\n",
       "      <td>73486</td>\n",
       "      <td>117824</td>\n",
       "      <td>7630</td>\n",
       "      <td>1069</td>\n",
       "      <td>0</td>\n",
       "      <td>2</td>\n",
       "      <td>7758</td>\n",
       "      <td>9</td>\n",
       "      <td>21539</td>\n",
       "      <td>...</td>\n",
       "      <td>False</td>\n",
       "      <td>False</td>\n",
       "      <td>False</td>\n",
       "      <td>False</td>\n",
       "      <td>True</td>\n",
       "      <td>False</td>\n",
       "      <td>False</td>\n",
       "      <td>False</td>\n",
       "      <td>False</td>\n",
       "      <td>False</td>\n",
       "    </tr>\n",
       "    <tr>\n",
       "      <th>3</th>\n",
       "      <td>12613049</td>\n",
       "      <td>39228</td>\n",
       "      <td>68300</td>\n",
       "      <td>17183</td>\n",
       "      <td>2310</td>\n",
       "      <td>0</td>\n",
       "      <td>2</td>\n",
       "      <td>7758</td>\n",
       "      <td>9</td>\n",
       "      <td>31840</td>\n",
       "      <td>...</td>\n",
       "      <td>False</td>\n",
       "      <td>False</td>\n",
       "      <td>False</td>\n",
       "      <td>False</td>\n",
       "      <td>True</td>\n",
       "      <td>False</td>\n",
       "      <td>False</td>\n",
       "      <td>False</td>\n",
       "      <td>False</td>\n",
       "      <td>False</td>\n",
       "    </tr>\n",
       "    <tr>\n",
       "      <th>4</th>\n",
       "      <td>12613647</td>\n",
       "      <td>85435</td>\n",
       "      <td>157839</td>\n",
       "      <td>17183</td>\n",
       "      <td>2310</td>\n",
       "      <td>0</td>\n",
       "      <td>2</td>\n",
       "      <td>7758</td>\n",
       "      <td>9</td>\n",
       "      <td>21344</td>\n",
       "      <td>...</td>\n",
       "      <td>False</td>\n",
       "      <td>False</td>\n",
       "      <td>False</td>\n",
       "      <td>False</td>\n",
       "      <td>True</td>\n",
       "      <td>False</td>\n",
       "      <td>False</td>\n",
       "      <td>False</td>\n",
       "      <td>False</td>\n",
       "      <td>False</td>\n",
       "    </tr>\n",
       "  </tbody>\n",
       "</table>\n",
       "<p>5 rows × 22 columns</p>\n",
       "</div>"
      ],
      "text/plain": [
       "         Id   Title  FullDescription  LocationRaw  LocationNormalized  \\\n",
       "0  12612628   39227            68301         5178                 751   \n",
       "1  12612830  121388           196351         6881                 987   \n",
       "2  12612844   73486           117824         7630                1069   \n",
       "3  12613049   39228            68300        17183                2310   \n",
       "4  12613647   85435           157839        17183                2310   \n",
       "\n",
       "   ContractType  ContractTime  Company  Category  SalaryRaw  ...  \\\n",
       "0             0             2     7758         9      21344  ...   \n",
       "1             0             2     7758         9      32427  ...   \n",
       "2             0             2     7758         9      21539  ...   \n",
       "3             0             2     7758         9      31840  ...   \n",
       "4             0             2     7758         9      21344  ...   \n",
       "\n",
       "   Titleis_missing  FullDescriptionis_missing  LocationRawis_missing  \\\n",
       "0            False                      False                  False   \n",
       "1            False                      False                  False   \n",
       "2            False                      False                  False   \n",
       "3            False                      False                  False   \n",
       "4            False                      False                  False   \n",
       "\n",
       "   LocationNormalizedis_missing  ContractTypeis_missing  \\\n",
       "0                         False                    True   \n",
       "1                         False                    True   \n",
       "2                         False                    True   \n",
       "3                         False                    True   \n",
       "4                         False                    True   \n",
       "\n",
       "   ContractTimeis_missing  Companyis_missing  Categoryis_missing  \\\n",
       "0                   False              False               False   \n",
       "1                   False              False               False   \n",
       "2                   False              False               False   \n",
       "3                   False              False               False   \n",
       "4                   False              False               False   \n",
       "\n",
       "   SalaryRawis_missing  SourceNameis_missing  \n",
       "0                False                 False  \n",
       "1                False                 False  \n",
       "2                False                 False  \n",
       "3                False                 False  \n",
       "4                False                 False  \n",
       "\n",
       "[5 rows x 22 columns]"
      ]
     },
     "execution_count": 14,
     "metadata": {},
     "output_type": "execute_result"
    }
   ],
   "source": [
    "df_tmp.head()"
   ]
  },
  {
   "cell_type": "code",
   "execution_count": 15,
   "metadata": {
    "execution": {
     "iopub.execute_input": "2020-12-16T14:04:46.575732Z",
     "iopub.status.busy": "2020-12-16T14:04:46.575006Z",
     "iopub.status.idle": "2020-12-16T14:04:46.589092Z",
     "shell.execute_reply": "2020-12-16T14:04:46.589735Z"
    },
    "papermill": {
     "duration": 0.056274,
     "end_time": "2020-12-16T14:04:46.589927",
     "exception": false,
     "start_time": "2020-12-16T14:04:46.533653",
     "status": "completed"
    },
    "tags": []
   },
   "outputs": [],
   "source": [
    "# Split the data into X & y\n",
    "X = df_tmp.drop(\"SalaryNormalized\",axis=1)\n",
    "y = df_tmp[\"SalaryNormalized\"]"
   ]
  },
  {
   "cell_type": "markdown",
   "metadata": {
    "papermill": {
     "duration": 0.035222,
     "end_time": "2020-12-16T14:04:46.660368",
     "exception": false,
     "start_time": "2020-12-16T14:04:46.625146",
     "status": "completed"
    },
    "tags": []
   },
   "source": [
    "# Modeling"
   ]
  },
  {
   "cell_type": "code",
   "execution_count": 16,
   "metadata": {
    "execution": {
     "iopub.execute_input": "2020-12-16T14:04:46.739894Z",
     "iopub.status.busy": "2020-12-16T14:04:46.738893Z",
     "iopub.status.idle": "2020-12-16T14:06:17.030369Z",
     "shell.execute_reply": "2020-12-16T14:06:17.031017Z"
    },
    "papermill": {
     "duration": 90.335866,
     "end_time": "2020-12-16T14:06:17.031248",
     "exception": false,
     "start_time": "2020-12-16T14:04:46.695382",
     "status": "completed"
    },
    "tags": []
   },
   "outputs": [
    {
     "data": {
      "text/plain": [
       "RandomForestRegressor(n_jobs=-1)"
      ]
     },
     "execution_count": 16,
     "metadata": {},
     "output_type": "execute_result"
    }
   ],
   "source": [
    "# # Let's build a machine learning model \n",
    "from sklearn.ensemble import RandomForestRegressor\n",
    "from sklearn.model_selection import train_test_split\n",
    "X_train,X_test,y_train,y_test = train_test_split(X,y,test_size=0.2,random_state=42)\n",
    "model = RandomForestRegressor(n_jobs=-1)\n",
    "model.fit(X_train,y_train)"
   ]
  },
  {
   "cell_type": "markdown",
   "metadata": {
    "papermill": {
     "duration": 0.036453,
     "end_time": "2020-12-16T14:06:17.103102",
     "exception": false,
     "start_time": "2020-12-16T14:06:17.066649",
     "status": "completed"
    },
    "tags": []
   },
   "source": [
    "# Evaluation"
   ]
  },
  {
   "cell_type": "code",
   "execution_count": 17,
   "metadata": {
    "execution": {
     "iopub.execute_input": "2020-12-16T14:06:17.179485Z",
     "iopub.status.busy": "2020-12-16T14:06:17.178360Z",
     "iopub.status.idle": "2020-12-16T14:06:18.232624Z",
     "shell.execute_reply": "2020-12-16T14:06:18.231972Z"
    },
    "papermill": {
     "duration": 1.094029,
     "end_time": "2020-12-16T14:06:18.232752",
     "exception": false,
     "start_time": "2020-12-16T14:06:17.138723",
     "status": "completed"
    },
    "tags": []
   },
   "outputs": [
    {
     "data": {
      "text/plain": [
       "1734.5571840911873"
      ]
     },
     "execution_count": 17,
     "metadata": {},
     "output_type": "execute_result"
    }
   ],
   "source": [
    "# Evaluate model using mean absolute error\n",
    "from sklearn.metrics import mean_absolute_error\n",
    "y_preds_0 = model.predict(X_test)\n",
    "mae_rf = mean_absolute_error(y_test,y_preds_0)\n",
    "mae_rf"
   ]
  },
  {
   "cell_type": "markdown",
   "metadata": {
    "papermill": {
     "duration": 0.036084,
     "end_time": "2020-12-16T14:06:18.305642",
     "exception": false,
     "start_time": "2020-12-16T14:06:18.269558",
     "status": "completed"
    },
    "tags": []
   },
   "source": [
    "# Hyerparameter tuning with RandomizedSearchCV"
   ]
  },
  {
   "cell_type": "code",
   "execution_count": 18,
   "metadata": {
    "execution": {
     "iopub.execute_input": "2020-12-16T14:06:18.383582Z",
     "iopub.status.busy": "2020-12-16T14:06:18.382728Z",
     "iopub.status.idle": "2020-12-16T14:07:31.883191Z",
     "shell.execute_reply": "2020-12-16T14:07:31.883730Z"
    },
    "papermill": {
     "duration": 73.54061,
     "end_time": "2020-12-16T14:07:31.883893",
     "exception": false,
     "start_time": "2020-12-16T14:06:18.343283",
     "status": "completed"
    },
    "tags": []
   },
   "outputs": [
    {
     "name": "stdout",
     "output_type": "stream",
     "text": [
      "Fitting 5 folds for each of 5 candidates, totalling 25 fits\n"
     ]
    },
    {
     "name": "stderr",
     "output_type": "stream",
     "text": [
      "[Parallel(n_jobs=1)]: Using backend SequentialBackend with 1 concurrent workers.\n",
      "[Parallel(n_jobs=1)]: Done  25 out of  25 | elapsed:  1.2min finished\n"
     ]
    },
    {
     "data": {
      "text/plain": [
       "RandomizedSearchCV(cv=5,\n",
       "                   estimator=RandomForestRegressor(n_jobs=-1, random_state=42),\n",
       "                   n_iter=5,\n",
       "                   param_distributions={'max_depth': [None, 3, 5, 10],\n",
       "                                        'max_features': [0.5, 1, 'sqrt',\n",
       "                                                         'auto'],\n",
       "                                        'max_samples': [10000, 12000, 15000,\n",
       "                                                        20000],\n",
       "                                        'min_samples_leaf': array([ 1,  3,  5,  7,  9, 11, 13, 15, 17, 19]),\n",
       "                                        'min_samples_split': array([ 2,  4,  6,  8, 10, 12, 14, 16, 18]),\n",
       "                                        'n_estimators': array([10, 20, 30, 40, 50, 60, 70, 80, 90])},\n",
       "                   verbose=True)"
      ]
     },
     "execution_count": 18,
     "metadata": {},
     "output_type": "execute_result"
    }
   ],
   "source": [
    "from sklearn.model_selection import RandomizedSearchCV\n",
    "np.random.seed(42)\n",
    "grid = {\n",
    "    \"n_estimators\":np.arange(10,100,10),\n",
    "    \"max_depth\":[None,3,5,10],\n",
    "    \"min_samples_split\":np.arange(2,20,2),\n",
    "    \"min_samples_leaf\":np.arange(1,20,2),\n",
    "    \"max_features\": [0.5,1,\"sqrt\",\"auto\"],\n",
    "    \"max_samples\":[10000,12000,15000,20000]\n",
    "}\n",
    "rs_model = RandomizedSearchCV(\n",
    "RandomForestRegressor(n_jobs=-1,\n",
    "                     random_state=42),\n",
    "                    param_distributions = grid,\n",
    "                     n_iter=5,\n",
    "                    cv=5,\n",
    "                    verbose=True)\n",
    "rs_model.fit(X_train,y_train)"
   ]
  },
  {
   "cell_type": "code",
   "execution_count": 19,
   "metadata": {
    "execution": {
     "iopub.execute_input": "2020-12-16T14:07:31.968271Z",
     "iopub.status.busy": "2020-12-16T14:07:31.966732Z",
     "iopub.status.idle": "2020-12-16T14:07:31.971176Z",
     "shell.execute_reply": "2020-12-16T14:07:31.971710Z"
    },
    "papermill": {
     "duration": 0.051556,
     "end_time": "2020-12-16T14:07:31.971861",
     "exception": false,
     "start_time": "2020-12-16T14:07:31.920305",
     "status": "completed"
    },
    "tags": []
   },
   "outputs": [
    {
     "data": {
      "text/plain": [
       "{'n_estimators': 60,\n",
       " 'min_samples_split': 12,\n",
       " 'min_samples_leaf': 1,\n",
       " 'max_samples': 12000,\n",
       " 'max_features': 0.5,\n",
       " 'max_depth': None}"
      ]
     },
     "execution_count": 19,
     "metadata": {},
     "output_type": "execute_result"
    }
   ],
   "source": [
    "rs_model.best_params_"
   ]
  },
  {
   "cell_type": "code",
   "execution_count": 20,
   "metadata": {
    "execution": {
     "iopub.execute_input": "2020-12-16T14:07:32.050780Z",
     "iopub.status.busy": "2020-12-16T14:07:32.049720Z",
     "iopub.status.idle": "2020-12-16T14:07:32.494245Z",
     "shell.execute_reply": "2020-12-16T14:07:32.493550Z"
    },
    "papermill": {
     "duration": 0.484797,
     "end_time": "2020-12-16T14:07:32.494381",
     "exception": false,
     "start_time": "2020-12-16T14:07:32.009584",
     "status": "completed"
    },
    "tags": []
   },
   "outputs": [
    {
     "data": {
      "text/plain": [
       "(4656.482273089437, 1734.5571840911873)"
      ]
     },
     "execution_count": 20,
     "metadata": {},
     "output_type": "execute_result"
    }
   ],
   "source": [
    "# Choose the best performance\n",
    "y_preds_rs = rs_model.predict(X_test)\n",
    "mae_hyp = mean_absolute_error(y_test,y_preds_rs)\n",
    "mae_hyp,mae_rf"
   ]
  },
  {
   "cell_type": "markdown",
   "metadata": {
    "papermill": {
     "duration": 0.041336,
     "end_time": "2020-12-16T14:07:32.575292",
     "exception": false,
     "start_time": "2020-12-16T14:07:32.533956",
     "status": "completed"
    },
    "tags": []
   },
   "source": [
    "# Make predictions"
   ]
  },
  {
   "cell_type": "code",
   "execution_count": 21,
   "metadata": {
    "execution": {
     "iopub.execute_input": "2020-12-16T14:07:32.671721Z",
     "iopub.status.busy": "2020-12-16T14:07:32.670912Z",
     "iopub.status.idle": "2020-12-16T14:07:38.185092Z",
     "shell.execute_reply": "2020-12-16T14:07:38.184368Z"
    },
    "papermill": {
     "duration": 5.564181,
     "end_time": "2020-12-16T14:07:38.185220",
     "exception": false,
     "start_time": "2020-12-16T14:07:32.621039",
     "status": "completed"
    },
    "tags": []
   },
   "outputs": [],
   "source": [
    "# Importing test data\n",
    "df_test = pd.read_csv('../input/job-salary-prediction/Test_rev1.zip', compression='zip', header=0, sep=',', quotechar='\"')"
   ]
  },
  {
   "cell_type": "code",
   "execution_count": 22,
   "metadata": {
    "execution": {
     "iopub.execute_input": "2020-12-16T14:07:38.390577Z",
     "iopub.status.busy": "2020-12-16T14:07:38.389740Z",
     "iopub.status.idle": "2020-12-16T14:07:38.402082Z",
     "shell.execute_reply": "2020-12-16T14:07:38.401376Z"
    },
    "papermill": {
     "duration": 0.178281,
     "end_time": "2020-12-16T14:07:38.402224",
     "exception": false,
     "start_time": "2020-12-16T14:07:38.223943",
     "status": "completed"
    },
    "scrolled": true,
    "tags": []
   },
   "outputs": [
    {
     "data": {
      "text/plain": [
       "Id                        0\n",
       "Title                     0\n",
       "FullDescription           0\n",
       "LocationRaw               0\n",
       "LocationNormalized        0\n",
       "ContractType          89450\n",
       "ContractTime          31761\n",
       "Company               16261\n",
       "Category                  0\n",
       "SourceName                0\n",
       "dtype: int64"
      ]
     },
     "execution_count": 22,
     "metadata": {},
     "output_type": "execute_result"
    }
   ],
   "source": [
    "# Check for missing values\n",
    "df_test.isna().sum()"
   ]
  },
  {
   "cell_type": "code",
   "execution_count": 23,
   "metadata": {
    "execution": {
     "iopub.execute_input": "2020-12-16T14:07:38.507622Z",
     "iopub.status.busy": "2020-12-16T14:07:38.506340Z",
     "iopub.status.idle": "2020-12-16T14:07:38.511164Z",
     "shell.execute_reply": "2020-12-16T14:07:38.512096Z"
    },
    "papermill": {
     "duration": 0.068775,
     "end_time": "2020-12-16T14:07:38.512350",
     "exception": false,
     "start_time": "2020-12-16T14:07:38.443575",
     "status": "completed"
    },
    "tags": []
   },
   "outputs": [
    {
     "data": {
      "text/html": [
       "<div>\n",
       "<style scoped>\n",
       "    .dataframe tbody tr th:only-of-type {\n",
       "        vertical-align: middle;\n",
       "    }\n",
       "\n",
       "    .dataframe tbody tr th {\n",
       "        vertical-align: top;\n",
       "    }\n",
       "\n",
       "    .dataframe thead th {\n",
       "        text-align: right;\n",
       "    }\n",
       "</style>\n",
       "<table border=\"1\" class=\"dataframe\">\n",
       "  <thead>\n",
       "    <tr style=\"text-align: right;\">\n",
       "      <th></th>\n",
       "      <th>Id</th>\n",
       "      <th>Title</th>\n",
       "      <th>FullDescription</th>\n",
       "      <th>LocationRaw</th>\n",
       "      <th>LocationNormalized</th>\n",
       "      <th>ContractType</th>\n",
       "      <th>ContractTime</th>\n",
       "      <th>Company</th>\n",
       "      <th>Category</th>\n",
       "      <th>SourceName</th>\n",
       "    </tr>\n",
       "  </thead>\n",
       "  <tbody>\n",
       "    <tr>\n",
       "      <th>0</th>\n",
       "      <td>11888454</td>\n",
       "      <td>Business Development Manager</td>\n",
       "      <td>The Company: Our client is a national training...</td>\n",
       "      <td>Tyne Wear, North East</td>\n",
       "      <td>Newcastle Upon Tyne</td>\n",
       "      <td>NaN</td>\n",
       "      <td>permanent</td>\n",
       "      <td>Asset Appointments</td>\n",
       "      <td>Teaching Jobs</td>\n",
       "      <td>cv-library.co.uk</td>\n",
       "    </tr>\n",
       "    <tr>\n",
       "      <th>1</th>\n",
       "      <td>11988350</td>\n",
       "      <td>Internal Account Manager</td>\n",
       "      <td>The Company: Founded in **** our client is a U...</td>\n",
       "      <td>Tyne and Wear, North East</td>\n",
       "      <td>Newcastle Upon Tyne</td>\n",
       "      <td>NaN</td>\n",
       "      <td>permanent</td>\n",
       "      <td>Asset Appointments</td>\n",
       "      <td>Consultancy Jobs</td>\n",
       "      <td>cv-library.co.uk</td>\n",
       "    </tr>\n",
       "    <tr>\n",
       "      <th>2</th>\n",
       "      <td>12612558</td>\n",
       "      <td>Engineering Systems Analysts</td>\n",
       "      <td>Engineering Systems Analysts Surrey ****K Loca...</td>\n",
       "      <td>Surrey, South East, South East</td>\n",
       "      <td>Surrey</td>\n",
       "      <td>NaN</td>\n",
       "      <td>permanent</td>\n",
       "      <td>Gregory Martin International</td>\n",
       "      <td>Engineering Jobs</td>\n",
       "      <td>cv-library.co.uk</td>\n",
       "    </tr>\n",
       "    <tr>\n",
       "      <th>3</th>\n",
       "      <td>12613014</td>\n",
       "      <td>CIS Systems Engineering Consultant</td>\n",
       "      <td>CIS Systems Engineering Consultant Bristol  So...</td>\n",
       "      <td>Bristol, South West, South West</td>\n",
       "      <td>Bristol</td>\n",
       "      <td>NaN</td>\n",
       "      <td>permanent</td>\n",
       "      <td>Gregory Martin International</td>\n",
       "      <td>Engineering Jobs</td>\n",
       "      <td>cv-library.co.uk</td>\n",
       "    </tr>\n",
       "    <tr>\n",
       "      <th>4</th>\n",
       "      <td>22454872</td>\n",
       "      <td>CNC Miller / Programmer Fanac</td>\n",
       "      <td>CNC Miller / Programmer Fanac Fleet, Hampshire...</td>\n",
       "      <td>Fleet, Hampshire</td>\n",
       "      <td>Fleet</td>\n",
       "      <td>NaN</td>\n",
       "      <td>permanent</td>\n",
       "      <td>Gregory Martin International</td>\n",
       "      <td>Manufacturing Jobs</td>\n",
       "      <td>cv-library.co.uk</td>\n",
       "    </tr>\n",
       "  </tbody>\n",
       "</table>\n",
       "</div>"
      ],
      "text/plain": [
       "         Id                               Title  \\\n",
       "0  11888454        Business Development Manager   \n",
       "1  11988350            Internal Account Manager   \n",
       "2  12612558        Engineering Systems Analysts   \n",
       "3  12613014  CIS Systems Engineering Consultant   \n",
       "4  22454872       CNC Miller / Programmer Fanac   \n",
       "\n",
       "                                     FullDescription  \\\n",
       "0  The Company: Our client is a national training...   \n",
       "1  The Company: Founded in **** our client is a U...   \n",
       "2  Engineering Systems Analysts Surrey ****K Loca...   \n",
       "3  CIS Systems Engineering Consultant Bristol  So...   \n",
       "4  CNC Miller / Programmer Fanac Fleet, Hampshire...   \n",
       "\n",
       "                       LocationRaw   LocationNormalized ContractType  \\\n",
       "0            Tyne Wear, North East  Newcastle Upon Tyne          NaN   \n",
       "1        Tyne and Wear, North East  Newcastle Upon Tyne          NaN   \n",
       "2   Surrey, South East, South East               Surrey          NaN   \n",
       "3  Bristol, South West, South West              Bristol          NaN   \n",
       "4                 Fleet, Hampshire                Fleet          NaN   \n",
       "\n",
       "  ContractTime                       Company            Category  \\\n",
       "0    permanent            Asset Appointments       Teaching Jobs   \n",
       "1    permanent            Asset Appointments    Consultancy Jobs   \n",
       "2    permanent  Gregory Martin International    Engineering Jobs   \n",
       "3    permanent  Gregory Martin International    Engineering Jobs   \n",
       "4    permanent  Gregory Martin International  Manufacturing Jobs   \n",
       "\n",
       "         SourceName  \n",
       "0  cv-library.co.uk  \n",
       "1  cv-library.co.uk  \n",
       "2  cv-library.co.uk  \n",
       "3  cv-library.co.uk  \n",
       "4  cv-library.co.uk  "
      ]
     },
     "execution_count": 23,
     "metadata": {},
     "output_type": "execute_result"
    }
   ],
   "source": [
    "df_test.head()"
   ]
  },
  {
   "cell_type": "code",
   "execution_count": 24,
   "metadata": {
    "execution": {
     "iopub.execute_input": "2020-12-16T14:07:38.602747Z",
     "iopub.status.busy": "2020-12-16T14:07:38.601402Z",
     "iopub.status.idle": "2020-12-16T14:07:38.605814Z",
     "shell.execute_reply": "2020-12-16T14:07:38.606736Z"
    },
    "papermill": {
     "duration": 0.05405,
     "end_time": "2020-12-16T14:07:38.607011",
     "exception": false,
     "start_time": "2020-12-16T14:07:38.552961",
     "status": "completed"
    },
    "tags": []
   },
   "outputs": [
    {
     "name": "stdout",
     "output_type": "stream",
     "text": [
      "Title\n",
      "FullDescription\n",
      "LocationRaw\n",
      "LocationNormalized\n",
      "ContractType\n",
      "ContractTime\n",
      "Company\n",
      "Category\n",
      "SourceName\n"
     ]
    }
   ],
   "source": [
    "# Check for string label\n",
    "for label,content in df_test.items():\n",
    "    if pd.api.types.is_string_dtype(content):\n",
    "        print(label)"
   ]
  },
  {
   "cell_type": "code",
   "execution_count": 25,
   "metadata": {
    "execution": {
     "iopub.execute_input": "2020-12-16T14:07:38.697077Z",
     "iopub.status.busy": "2020-12-16T14:07:38.696121Z",
     "iopub.status.idle": "2020-12-16T14:07:38.699892Z",
     "shell.execute_reply": "2020-12-16T14:07:38.700590Z"
    },
    "papermill": {
     "duration": 0.051296,
     "end_time": "2020-12-16T14:07:38.700754",
     "exception": false,
     "start_time": "2020-12-16T14:07:38.649458",
     "status": "completed"
    },
    "tags": []
   },
   "outputs": [
    {
     "name": "stdout",
     "output_type": "stream",
     "text": [
      "Id\n"
     ]
    }
   ],
   "source": [
    "# Check for numerical label\n",
    "for label,content in df_test.items():\n",
    "    if pd.api.types.is_numeric_dtype(content):\n",
    "        print(label)"
   ]
  },
  {
   "cell_type": "code",
   "execution_count": 26,
   "metadata": {
    "execution": {
     "iopub.execute_input": "2020-12-16T14:07:38.805758Z",
     "iopub.status.busy": "2020-12-16T14:07:38.796298Z",
     "iopub.status.idle": "2020-12-16T14:07:40.912269Z",
     "shell.execute_reply": "2020-12-16T14:07:40.911684Z"
    },
    "papermill": {
     "duration": 2.169872,
     "end_time": "2020-12-16T14:07:40.912410",
     "exception": false,
     "start_time": "2020-12-16T14:07:38.742538",
     "status": "completed"
    },
    "tags": []
   },
   "outputs": [
    {
     "data": {
      "text/plain": [
       "((48954, 21), (48954,))"
      ]
     },
     "execution_count": 26,
     "metadata": {},
     "output_type": "execute_result"
    }
   ],
   "source": [
    "# This will turn all of the string value into category values\n",
    "for label, content in df_test.items():\n",
    "    if pd.api.types.is_string_dtype(content):\n",
    "        df_test[label] = content.astype(\"category\").cat.as_ordered()\n",
    "# Filling missing values\n",
    "for label,content in df_test.items():\n",
    "    if not pd.api.types.is_numeric_dtype(content):\n",
    "        # Add binary column to indicate whether sample had missing value\n",
    "        df_test[label+\"is_missing\"]=pd.isnull(content)\n",
    "        # Turn categories into numbers and add+1\n",
    "        df_test[label] = pd.Categorical(content).codes+1\n",
    "X_test.shape,y_test.shape        "
   ]
  },
  {
   "cell_type": "code",
   "execution_count": 27,
   "metadata": {
    "execution": {
     "iopub.execute_input": "2020-12-16T14:07:41.001101Z",
     "iopub.status.busy": "2020-12-16T14:07:41.000306Z",
     "iopub.status.idle": "2020-12-16T14:07:41.005243Z",
     "shell.execute_reply": "2020-12-16T14:07:41.005823Z"
    },
    "papermill": {
     "duration": 0.052183,
     "end_time": "2020-12-16T14:07:41.006050",
     "exception": false,
     "start_time": "2020-12-16T14:07:40.953867",
     "status": "completed"
    },
    "tags": []
   },
   "outputs": [
    {
     "data": {
      "text/plain": [
       "{'SalaryRaw', 'SalaryRawis_missing'}"
      ]
     },
     "execution_count": 27,
     "metadata": {},
     "output_type": "execute_result"
    }
   ],
   "source": [
    "# Reshape X_train & df_test\n",
    "set(X_train.columns)-set(df_test.columns)"
   ]
  },
  {
   "cell_type": "code",
   "execution_count": 28,
   "metadata": {
    "execution": {
     "iopub.execute_input": "2020-12-16T14:07:41.092172Z",
     "iopub.status.busy": "2020-12-16T14:07:41.091510Z",
     "iopub.status.idle": "2020-12-16T14:07:41.096476Z",
     "shell.execute_reply": "2020-12-16T14:07:41.097091Z"
    },
    "papermill": {
     "duration": 0.049353,
     "end_time": "2020-12-16T14:07:41.097245",
     "exception": false,
     "start_time": "2020-12-16T14:07:41.047892",
     "status": "completed"
    },
    "tags": []
   },
   "outputs": [],
   "source": [
    "df_test[\"SalaryRaw\"] = False\n",
    "df_test[\"SalaryRawis_missing\"] = False"
   ]
  },
  {
   "cell_type": "code",
   "execution_count": 29,
   "metadata": {
    "execution": {
     "iopub.execute_input": "2020-12-16T14:07:41.187224Z",
     "iopub.status.busy": "2020-12-16T14:07:41.186477Z",
     "iopub.status.idle": "2020-12-16T14:07:41.191685Z",
     "shell.execute_reply": "2020-12-16T14:07:41.192230Z"
    },
    "papermill": {
     "duration": 0.051592,
     "end_time": "2020-12-16T14:07:41.192384",
     "exception": false,
     "start_time": "2020-12-16T14:07:41.140792",
     "status": "completed"
    },
    "tags": []
   },
   "outputs": [
    {
     "data": {
      "text/plain": [
       "((195814, 21), (122463, 21))"
      ]
     },
     "execution_count": 29,
     "metadata": {},
     "output_type": "execute_result"
    }
   ],
   "source": [
    "X_train.shape,df_test.shape"
   ]
  },
  {
   "cell_type": "code",
   "execution_count": 30,
   "metadata": {
    "execution": {
     "iopub.execute_input": "2020-12-16T14:07:41.281096Z",
     "iopub.status.busy": "2020-12-16T14:07:41.280351Z",
     "iopub.status.idle": "2020-12-16T14:07:41.930233Z",
     "shell.execute_reply": "2020-12-16T14:07:41.929472Z"
    },
    "papermill": {
     "duration": 0.695939,
     "end_time": "2020-12-16T14:07:41.930375",
     "exception": false,
     "start_time": "2020-12-16T14:07:41.234436",
     "status": "completed"
    },
    "tags": []
   },
   "outputs": [],
   "source": [
    "# Make predictions\n",
    "y_preds = model.predict(df_test)"
   ]
  },
  {
   "cell_type": "code",
   "execution_count": 31,
   "metadata": {
    "execution": {
     "iopub.execute_input": "2020-12-16T14:07:42.026562Z",
     "iopub.status.busy": "2020-12-16T14:07:42.025602Z",
     "iopub.status.idle": "2020-12-16T14:07:42.826376Z",
     "shell.execute_reply": "2020-12-16T14:07:42.826924Z"
    },
    "papermill": {
     "duration": 0.853559,
     "end_time": "2020-12-16T14:07:42.827187",
     "exception": false,
     "start_time": "2020-12-16T14:07:41.973628",
     "status": "completed"
    },
    "tags": []
   },
   "outputs": [],
   "source": [
    "# Format predictions into the same format Kaggle is after\n",
    "df_preds = pd.DataFrame()\n",
    "df_preds[\"Id\"] = df_test[\"Id\"]\n",
    "df_preds[\"SalaryNormalized\"] = y_preds\n",
    "df_preds.head()\n",
    "df_preds.to_csv(\".//Submission.csv\",index=False)"
   ]
  },
  {
   "cell_type": "markdown",
   "metadata": {
    "papermill": {
     "duration": 0.042637,
     "end_time": "2020-12-16T14:07:42.913672",
     "exception": false,
     "start_time": "2020-12-16T14:07:42.871035",
     "status": "completed"
    },
    "tags": []
   },
   "source": [
    "### Feature Importance\n",
    "\n",
    "Feature importance seeks to figure out which different attributes of the data were most importance when it comes to predicting the **target variable** (SalaryNormalized)."
   ]
  },
  {
   "cell_type": "code",
   "execution_count": 32,
   "metadata": {
    "execution": {
     "iopub.execute_input": "2020-12-16T14:07:43.007734Z",
     "iopub.status.busy": "2020-12-16T14:07:43.006599Z",
     "iopub.status.idle": "2020-12-16T14:07:43.119998Z",
     "shell.execute_reply": "2020-12-16T14:07:43.119402Z"
    },
    "papermill": {
     "duration": 0.162912,
     "end_time": "2020-12-16T14:07:43.120139",
     "exception": false,
     "start_time": "2020-12-16T14:07:42.957227",
     "status": "completed"
    },
    "tags": []
   },
   "outputs": [
    {
     "data": {
      "text/plain": [
       "array([1.47933652e-02, 1.46703692e-02, 1.49101146e-02, 1.03557095e-02,\n",
       "       7.51412203e-03, 2.44518495e-02, 5.90309274e-02, 1.65997379e-02,\n",
       "       4.19170494e-02, 7.02351337e-01, 6.68815984e-02, 0.00000000e+00,\n",
       "       0.00000000e+00, 0.00000000e+00, 0.00000000e+00, 1.43994083e-03,\n",
       "       2.35185421e-02, 1.53749658e-03, 0.00000000e+00, 0.00000000e+00,\n",
       "       2.78405659e-05])"
      ]
     },
     "execution_count": 32,
     "metadata": {},
     "output_type": "execute_result"
    }
   ],
   "source": [
    "# Find feature importance of our best model\n",
    "model.feature_importances_"
   ]
  },
  {
   "cell_type": "code",
   "execution_count": 33,
   "metadata": {
    "execution": {
     "iopub.execute_input": "2020-12-16T14:07:43.211198Z",
     "iopub.status.busy": "2020-12-16T14:07:43.210497Z",
     "iopub.status.idle": "2020-12-16T14:07:43.220425Z",
     "shell.execute_reply": "2020-12-16T14:07:43.219450Z"
    },
    "papermill": {
     "duration": 0.056794,
     "end_time": "2020-12-16T14:07:43.220624",
     "exception": false,
     "start_time": "2020-12-16T14:07:43.163830",
     "status": "completed"
    },
    "tags": []
   },
   "outputs": [],
   "source": [
    "# Helper function for plotting feature importance\n",
    "def plot_features(columns, importances, n=20):\n",
    "    df = (pd.DataFrame({\"features\": columns,\n",
    "                        \"feature_importances\": importances})\n",
    "          .sort_values(\"feature_importances\", ascending=False)\n",
    "          .reset_index(drop=True))\n",
    "    \n",
    "    # Plot the dataframe\n",
    "    fig, ax = plt.subplots()\n",
    "    ax.barh(df[\"features\"][:n], df[\"feature_importances\"][:20])\n",
    "    ax.set_ylabel(\"Features\")\n",
    "    ax.set_xlabel(\"Feature importance\")\n",
    "    ax.invert_yaxis()"
   ]
  },
  {
   "cell_type": "code",
   "execution_count": 34,
   "metadata": {
    "execution": {
     "iopub.execute_input": "2020-12-16T14:07:43.324275Z",
     "iopub.status.busy": "2020-12-16T14:07:43.322970Z",
     "iopub.status.idle": "2020-12-16T14:07:43.662279Z",
     "shell.execute_reply": "2020-12-16T14:07:43.661598Z"
    },
    "papermill": {
     "duration": 0.39412,
     "end_time": "2020-12-16T14:07:43.662395",
     "exception": false,
     "start_time": "2020-12-16T14:07:43.268275",
     "status": "completed"
    },
    "tags": []
   },
   "outputs": [
    {
     "data": {
      "image/png": "[encoded data removed]",
      "text/plain": [
       "<Figure size 432x288 with 1 Axes>"
      ]
     },
     "metadata": {
      "needs_background": "light"
     },
     "output_type": "display_data"
    }
   ],
   "source": [
    "plot_features(X_train.columns,model.feature_importances_)"
   ]
  },
  {
   "cell_type": "code",
   "execution_count": 35,
   "metadata": {
    "execution": {
     "iopub.execute_input": "2020-12-16T14:07:43.760027Z",
     "iopub.status.busy": "2020-12-16T14:07:43.758701Z",
     "iopub.status.idle": "2020-12-16T14:07:43.779676Z",
     "shell.execute_reply": "2020-12-16T14:07:43.779017Z"
    },
    "papermill": {
     "duration": 0.073231,
     "end_time": "2020-12-16T14:07:43.779875",
     "exception": false,
     "start_time": "2020-12-16T14:07:43.706644",
     "status": "completed"
    },
    "tags": []
   },
   "outputs": [
    {
     "data": {
      "text/plain": [
       "61968    1923\n",
       "49198     868\n",
       "55105     834\n",
       "59122     764\n",
       "44773     742\n",
       "         ... \n",
       "37341       1\n",
       "35294       1\n",
       "33247       1\n",
       "96736       1\n",
       "2049        1\n",
       "Name: SalaryRaw, Length: 97286, dtype: int64"
      ]
     },
     "execution_count": 35,
     "metadata": {},
     "output_type": "execute_result"
    }
   ],
   "source": [
    "df_tmp[\"SalaryRaw\"].value_counts()"
   ]
  }
 ],
 "metadata": {
  "kernelspec": {
   "display_name": "Python 3",
   "language": "python",
   "name": "python3"
  },
  "language_info": {
   "codemirror_mode": {
    "name": "ipython",
    "version": 3
   },
   "file_extension": ".py",
   "mimetype": "text/x-python",
   "name": "python",
   "nbconvert_exporter": "python",
   "pygments_lexer": "ipython3",
   "version": "3.7.6"
  },
  "papermill": {
   "duration": 202.239216,
   "end_time": "2020-12-16T14:07:43.941578",
   "environment_variables": {},
   "exception": null,
   "input_path": "__notebook__.ipynb",
   "output_path": "__notebook__.ipynb",
   "parameters": {},
   "start_time": "2020-12-16T14:04:21.702362",
   "version": "2.1.0"
  }
 },
 "nbformat": 4,
 "nbformat_minor": 4
}
